{
 "cells": [
  {
   "cell_type": "markdown",
   "metadata": {
    "id": "DFgL_JSQwge7",
    "slideshow": {
     "slide_type": "slide"
    }
   },
   "source": [
    "                               --------- Overview ----------\n",
    "\n",
    "The dataset summarizes about potential frauds taking in medicare insurance.\n",
    "The total Medicare spending increased exponentially due to frauds in Medicare claims. Some of the most common types of frauds by providers are:. Duplicate submission of a claim for the same service. Misrepresenting the service provided. Charging for a more complex or expensive service than was actually provided.\n",
    "We would see a big data use case to see how pyspark can help in our analysis and as well as assists to provide ML computation to predict the fraud cases.\n",
    "\n",
    "Dataset- (https://www.kaggle.com/rohitrox/healthcare-provider-fraud-detection-analysis)"
   ]
  },
  {
   "cell_type": "code",
   "execution_count": null,
   "metadata": {
    "colab": {
     "base_uri": "https://localhost:8080/"
    },
    "id": "D3SQ7OSnyMSB",
    "outputId": "e256cf6f-4247-493d-ef99-27644102723a",
    "slideshow": {
     "slide_type": "subslide"
    }
   },
   "outputs": [],
   "source": [
    "#Installing pyspark\n",
    "!pip install pyspark"
   ]
  },
  {
   "cell_type": "code",
   "execution_count": 1,
   "metadata": {},
   "outputs": [],
   "source": [
    "import os\n",
    "os.environ['PYSPARK_DRIVER_PYTHON'] = \"jupyter\"\n",
    "os.environ['PYSPARK_PYTHON'] = \"python\"\n"
   ]
  },
  {
   "cell_type": "code",
   "execution_count": 2,
   "metadata": {
    "id": "58q4p-PH1993",
    "slideshow": {
     "slide_type": "subslide"
    }
   },
   "outputs": [],
   "source": [
    "# Import pyspark and host the spark Session\n",
    "from pyspark.context import SparkContext\n",
    "from pyspark.sql.session import SparkSession\n",
    "sc = SparkContext('local')\n",
    "#sc = spark.sparkContext\n",
    "spark = SparkSession(sc)\n"
   ]
  },
  {
   "cell_type": "code",
   "execution_count": null,
   "metadata": {
    "id": "8Cwksoo3gDXp",
    "slideshow": {
     "slide_type": "subslide"
    }
   },
   "outputs": [],
   "source": [
    "'''\n",
    "# Cleaning our data to preprocess and analyse the same\n",
    "def read(path):\n",
    "  file_type = \"csv\"\n",
    "  file_location = path\n",
    "  # CSV options\n",
    "  infer_schema = \"true\"\n",
    "  first_row_is_header = \"true\"\n",
    "  delimiter = \",\"\n",
    "  df = spark.read.format(file_type) \\\n",
    "    .option(\"inferSchema\", infer_schema) \\\n",
    "    .option(\"header\", first_row_is_header) \\\n",
    "    .option(\"sep\", delimiter) \\\n",
    "    .option('nanValue', ' ')\\\n",
    "    .option('nullValue', ' ')\\\n",
    "    .load(file_location)\n",
    "  df.show() '''"
   ]
  },
  {
   "cell_type": "code",
   "execution_count": null,
   "metadata": {
    "colab": {
     "base_uri": "https://localhost:8080/"
    },
    "id": "kMlHdKOq269p",
    "outputId": "1d5ff12f-efbb-49a7-a61e-b81589cbd3b6",
    "slideshow": {
     "slide_type": "subslide"
    }
   },
   "outputs": [],
   "source": [
    "'''\n",
    "df_1=read(\"C:/Users/yashb/OneDrive/Documents/ALY 6110/archive/Train_Beneficiarydata-1542865627584.csv\")\n",
    "df_2=read(\"C:/Users/yashb/OneDrive/Documents/ALY 6110/archive/Train_Inpatientdata-1542865627584.csv\")\n",
    "df_3=read(\"C:/Users/yashb/OneDrive/Documents/ALY 6110/archive/Train_Outpatientdata-1542865627584.csv\")\n",
    "df_4=read(\"C:/Users/yashb/OneDrive/Documents/ALY 6110/archive/Train-1542865627584.csv\")'''"
   ]
  },
  {
   "cell_type": "code",
   "execution_count": 3,
   "metadata": {
    "id": "tdsw8DN54w2K",
    "slideshow": {
     "slide_type": "-"
    }
   },
   "outputs": [],
   "source": [
    "# Storing the values of dataframe to the variables for our use\n",
    "from pyspark.sql.functions import *\n",
    "import pyspark\n",
    "infer_schema = \"true\"\n",
    "first_row_is_header = \"true\"\n",
    "delimiter = \",\"\n",
    "df_1= spark.read.format(\"csv\").option(\"header\",\"true\").load(\"C:/Users/yashb/OneDrive/Documents/ALY 6110/archive/Train_Beneficiarydata-1542865627584.csv\")\n",
    "df_2= spark.read.format(\"csv\").option(\"header\",\"true\").load(\"C:/Users/yashb/OneDrive/Documents/ALY 6110/archive/Train_Inpatientdata-1542865627584.csv\")\n",
    "df_3= spark.read.format(\"csv\").option(\"header\",\"true\").load(\"C:/Users/yashb/OneDrive/Documents/ALY 6110/archive/Train_Outpatientdata-1542865627584.csv\")\n",
    "df_4= spark.read.format(\"csv\").option(\"header\",\"true\").load(\"C:/Users/yashb/OneDrive/Documents/ALY 6110/archive/Train-1542865627584.csv\")"
   ]
  },
  {
   "cell_type": "code",
   "execution_count": null,
   "metadata": {},
   "outputs": [],
   "source": [
    "'''columns_to_drop = ['AdmissionDt', 'DischargeDt', 'DiagnosisGroupCode']\n",
    "df_2updated = df_2.drop(*columns_to_drop)\n",
    "union_data = df_2updated.union(df_3)\n",
    "\n",
    "#df_2.printSchema()         #AdmissionDt #DischargeDt #DiagnosisGroupCode '''"
   ]
  },
  {
   "cell_type": "code",
   "execution_count": null,
   "metadata": {},
   "outputs": [],
   "source": [
    "#union_data.count()"
   ]
  },
  {
   "cell_type": "code",
   "execution_count": null,
   "metadata": {},
   "outputs": [],
   "source": [
    "'''\n",
    "test_1=df_1.join(df_3,df_1.BeneID ==  df_3.BeneID,\"inner\")\n",
    "test_2=test_1.join(df_4,test_1.Provider == df_4.Provider,\"inner\")\n",
    "major_df = test_2.filter(test_2[\"PotentialFraud\"] == 'No')\n",
    "\n",
    "minor_df = test_2.filter(test_2[\"PotentialFraud\"] == 'Yes')\n",
    "'''"
   ]
  },
  {
   "cell_type": "code",
   "execution_count": null,
   "metadata": {},
   "outputs": [],
   "source": []
  },
  {
   "cell_type": "code",
   "execution_count": null,
   "metadata": {},
   "outputs": [],
   "source": [
    "#minor_df.count()"
   ]
  },
  {
   "cell_type": "markdown",
   "metadata": {
    "id": "bfjIEwZVLKSg",
    "slideshow": {
     "slide_type": "subslide"
    }
   },
   "source": [
    "Joining our data according to the requirement. The dataset is widely divided into different parts and we intent to use the common attributes and perform the appropriate joins accordingly."
   ]
  },
  {
   "cell_type": "code",
   "execution_count": 4,
   "metadata": {
    "id": "jTCuJ8MHGlM7",
    "slideshow": {
     "slide_type": "subslide"
    }
   },
   "outputs": [],
   "source": [
    "# Applying the join to BeneId ie the policy id.\n",
    "data_1=df_1.join(df_2,df_1.BeneID ==  df_2.BeneID,\"inner\")\n"
   ]
  },
  {
   "cell_type": "code",
   "execution_count": 5,
   "metadata": {
    "id": "rD6rAq-wO-qt",
    "slideshow": {
     "slide_type": "fragment"
    }
   },
   "outputs": [],
   "source": [
    "# Inner join to provider ie the company where insurance is being granted.\n",
    "data_2=data_1.join(df_4,data_1.Provider == df_4.Provider,\"inner\")\n",
    "\n",
    "\n",
    "#major_df = data_2.filter(data_2[\"PotentialFraud\"] == 'No')\n",
    "\n",
    "#minor_df = data_2.filter(data_2[\"PotentialFraud\"] == 'Yes')\n",
    "#minor_df.count() "
   ]
  },
  {
   "cell_type": "code",
   "execution_count": 6,
   "metadata": {},
   "outputs": [],
   "source": [
    "#major_df.count()"
   ]
  },
  {
   "cell_type": "code",
   "execution_count": 7,
   "metadata": {
    "id": "nVLbw8C5PslP",
    "slideshow": {
     "slide_type": "fragment"
    }
   },
   "outputs": [],
   "source": [
    "data=data_2.join(df_3,['Provider'])\n",
    "#major_df = data.filter(data[\"PotentialFraud\"] == 'No')\n",
    "\n",
    "#minor_df = data.filter(data[\"PotentialFraud\"] == 'Yes')\n"
   ]
  },
  {
   "cell_type": "code",
   "execution_count": 8,
   "metadata": {
    "id": "2nzqsw_sSNe8",
    "slideshow": {
     "slide_type": "fragment"
    }
   },
   "outputs": [],
   "source": [
    "# Finally we drop the irrelevant coloumns as they dont play a vital role in our analysis.\n",
    "data=data.drop('DOD','ClmDiagnosisCode_1','ClmDiagnosisCode_2','ClmDiagnosisCode_3','ClmDiagnosisCode_4','ClmDiagnosisCode_5','ClmDiagnosisCode_6','ClmDiagnosisCode_7','ClmDiagnosisCode_8','ClmDiagnosisCode_9','ClmDiagnosisCode_10','ClmProcedureCode_1','ClmProcedureCode_2','ClmProcedureCode_3','ClmProcedureCode_4','ClmProcedureCode_5','ClmProcedureCode_6','DeductibleAmtPaid','ClmAdmitDiagnosisCode','OperatingPhysician','OtherPhysician','AttendingPhysician','OperatingPhysician','OtherPhysician','BeneID')"
   ]
  },
  {
   "cell_type": "code",
   "execution_count": 22,
   "metadata": {
    "colab": {
     "base_uri": "https://localhost:8080/"
    },
    "id": "RQ4wrJdQUDoO",
    "outputId": "e4fa914a-2a09-441e-c84a-6f884763d95e",
    "slideshow": {
     "slide_type": "subslide"
    }
   },
   "outputs": [
    {
     "name": "stdout",
     "output_type": "stream",
     "text": [
      "+--------------+-------+\n",
      "|PotentialFraud|  count|\n",
      "+--------------+-------+\n",
      "|            No|1866601|\n",
      "|           Yes|9140503|\n",
      "+--------------+-------+\n",
      "\n"
     ]
    }
   ],
   "source": [
    "# The no. of fraud cases status\n",
    "data.groupBy('PotentialFraud').count().show()"
   ]
  },
  {
   "cell_type": "code",
   "execution_count": 10,
   "metadata": {
    "colab": {
     "base_uri": "https://localhost:8080/"
    },
    "id": "2ru14MJwbOKU",
    "outputId": "6bfddcf5-5e76-45f7-cbcf-21398b19c03a",
    "slideshow": {
     "slide_type": "subslide"
    }
   },
   "outputs": [
    {
     "name": "stdout",
     "output_type": "stream",
     "text": [
      "+-------+------------------------+\n",
      "|summary|IPAnnualReimbursementAmt|\n",
      "+-------+------------------------+\n",
      "|  count|                11007104|\n",
      "|   mean|      17536.803453478773|\n",
      "| stddev|      17617.014149701627|\n",
      "|    min|                       0|\n",
      "|    max|                    9980|\n",
      "+-------+------------------------+\n",
      "\n"
     ]
    }
   ],
   "source": [
    "# Stats for Reimbursement amounts\n",
    "data.select('IPAnnualReimbursementAmt').describe().show()"
   ]
  },
  {
   "cell_type": "markdown",
   "metadata": {
    "slideshow": {
     "slide_type": "subslide"
    }
   },
   "source": [
    " ~ $17500 claims/reimbursements of insurance in average was done by the customers  "
   ]
  },
  {
   "cell_type": "code",
   "execution_count": null,
   "metadata": {
    "colab": {
     "base_uri": "https://localhost:8080/"
    },
    "id": "flGedsbI2vSB",
    "outputId": "0d91445e-3743-4cf8-8394-c14ae00e68af",
    "slideshow": {
     "slide_type": "-"
    }
   },
   "outputs": [],
   "source": [
    "data.show()"
   ]
  },
  {
   "cell_type": "code",
   "execution_count": null,
   "metadata": {
    "id": "79885Sq81unK",
    "slideshow": {
     "slide_type": "subslide"
    }
   },
   "outputs": [],
   "source": [
    "### Alternate way- Converting pyspark to Pandas to assit us in the EDA"
   ]
  },
  {
   "cell_type": "code",
   "execution_count": 23,
   "metadata": {
    "id": "AMMGnBulF6C1",
    "slideshow": {
     "slide_type": "subslide"
    }
   },
   "outputs": [],
   "source": [
    "# Convert the spark dataset to pandas\n",
    "df_1=df_1.toPandas()\n",
    "df_2=df_2.toPandas()\n",
    "df_3=df_3.toPandas()\n",
    "df_4=df_4.toPandas()"
   ]
  },
  {
   "cell_type": "code",
   "execution_count": 24,
   "metadata": {
    "id": "1leDeo90KB2U",
    "slideshow": {
     "slide_type": "fragment"
    }
   },
   "outputs": [],
   "source": [
    "# Applying the logic for joins.\n",
    "data_1=df_1.merge(df_2, how='inner', on='BeneID')\n",
    "data_2=data_1.merge(df_4, how='inner', on='Provider')\n",
    "data_df=data_2.merge(df_3,how='inner',on='Provider')\n",
    "data_df=data_df[data_df!='NA']"
   ]
  },
  {
   "cell_type": "code",
   "execution_count": 13,
   "metadata": {},
   "outputs": [
    {
     "name": "stdout",
     "output_type": "stream",
     "text": [
      "11007104\n",
      "0\n"
     ]
    }
   ],
   "source": [
    "print(data_df.shape[0])\n",
    "data_df = data_df.dropna()\n",
    "print(data_df.shape[0])\n"
   ]
  },
  {
   "cell_type": "code",
   "execution_count": 25,
   "metadata": {
    "colab": {
     "base_uri": "https://localhost:8080/",
     "height": 535
    },
    "id": "pd4kvMZJEWnP",
    "outputId": "b6ee8feb-b22d-4621-9fa3-ae962692b84b",
    "slideshow": {
     "slide_type": "slide"
    }
   },
   "outputs": [
    {
     "data": {
      "image/png": "[encoded data removed]",
      "text/plain": [
       "<Figure size 864x576 with 1 Axes>"
      ]
     },
     "metadata": {},
     "output_type": "display_data"
    },
    {
     "data": {
      "text/plain": [
       "<Figure size 864x576 with 0 Axes>"
      ]
     },
     "metadata": {},
     "output_type": "display_data"
    }
   ],
   "source": [
    "import seaborn as sns\n",
    "import matplotlib.pyplot as plt\n",
    "sns.set(rc={'figure.figsize':(12,8)},style='white')\n",
    "ax=sns.countplot(x='ClmProcedureCode_1_x',hue='PotentialFraud',data=data_df\n",
    "              ,order=data_df.ClmProcedureCode_1_x.value_counts().iloc[:10].index)\n",
    "\n",
    "plt.title('Top-10 Procedures invloved in Healthcare Fraud')\n",
    "    \n",
    "plt.show()\n",
    "\n",
    "plt.savefig('TopProceduresinvlovedinHealthcareFraud')"
   ]
  },
  {
   "cell_type": "markdown",
   "metadata": {
    "id": "ywtsHrQZfU8x",
    "slideshow": {
     "slide_type": "subslide"
    }
   },
   "source": [
    "We see that procedure 9904 and 8154 had the highest amount of fraud cases."
   ]
  },
  {
   "cell_type": "code",
   "execution_count": 26,
   "metadata": {
    "colab": {
     "base_uri": "https://localhost:8080/",
     "height": 385
    },
    "id": "S6OCJ__ESAy-",
    "outputId": "cc97d70a-1ed0-4c34-9475-8a0a4494d1b1",
    "slideshow": {
     "slide_type": "slide"
    }
   },
   "outputs": [
    {
     "data": {
      "text/plain": [
       "Text(0.5, 1.0, 'Age Distribution for Fraudelent cases')"
      ]
     },
     "execution_count": 26,
     "metadata": {},
     "output_type": "execute_result"
    },
    {
     "data": {
      "image/png": "[encoded data removed]",
      "text/plain": [
       "<Figure size 864x576 with 1 Axes>"
      ]
     },
     "metadata": {},
     "output_type": "display_data"
    }
   ],
   "source": [
    "# Distribution for fradulent age range.\n",
    "import pandas as pd\n",
    "import matplotlib.pyplot as plt\n",
    "data_df['DOB'] =  pd.to_datetime(data_df['DOB'], format='%Y-%m-%d')  \n",
    "now = pd.to_datetime('2009-12-01' , format = '%Y-%m-%d') # Assuming this is 2009 data as the last recorded death is for 2009\n",
    "data_df['DOB'] = data_df['DOB'].where(data_df['DOB'] < now) \n",
    "data_df['age'] = (now - data_df['DOB']).astype('<m8[Y]')  \n",
    "\n",
    "plt.hist(data_df['age'], bins=20, alpha=0.5, edgecolor='b')\n",
    "\n",
    "#ax = data_df['age'].plt.hist(bins=20, alpha=0.5, figsize=(8, 6), edgecolor='b')\n",
    "plt.title(\"Age Distribution for Fraudelent cases\")"
   ]
  },
  {
   "cell_type": "markdown",
   "metadata": {
    "id": "2WGUsL8meHDq",
    "slideshow": {
     "slide_type": "subslide"
    }
   },
   "source": [
    "Most of the fradulent cases observed were for people having an age>65."
   ]
  },
  {
   "cell_type": "code",
   "execution_count": 27,
   "metadata": {
    "colab": {
     "base_uri": "https://localhost:8080/",
     "height": 161
    },
    "id": "96o0LPx0-dbP",
    "outputId": "2c9ee973-8020-4eeb-9b91-a74229684bc8",
    "slideshow": {
     "slide_type": "skip"
    }
   },
   "outputs": [
    {
     "data": {
      "text/plain": [
       "<seaborn.axisgrid.FacetGrid at 0x261004d7c70>"
      ]
     },
     "execution_count": 27,
     "metadata": {},
     "output_type": "execute_result"
    },
    {
     "data": {
      "image/png": "[encoded data removed]",
      "text/plain": [
       "<Figure size 8640x864 with 2 Axes>"
      ]
     },
     "metadata": {},
     "output_type": "display_data"
    }
   ],
   "source": [
    "# Were checking the skewness for Claims filed.\n",
    "import seaborn as sns\n",
    "import matplotlib.pyplot as plt\n",
    "g = sns.FacetGrid(data_df, col='PotentialFraud', height=12, aspect=5)\n",
    "g.map(plt.hist, 'InscClaimAmtReimbursed_x', bins=10, color = 'g')"
   ]
  },
  {
   "cell_type": "markdown",
   "metadata": {
    "slideshow": {
     "slide_type": "skip"
    }
   },
   "source": [
    "The skewness for reimbursements is a right skewed in its distribution."
   ]
  },
  {
   "cell_type": "code",
   "execution_count": 28,
   "metadata": {
    "colab": {
     "base_uri": "https://localhost:8080/",
     "height": 407
    },
    "id": "TqcDvUHlOLvF",
    "outputId": "713e9a03-958b-4b50-dc66-18730760b941",
    "slideshow": {
     "slide_type": "slide"
    }
   },
   "outputs": [
    {
     "data": {
      "image/png": "[encoded data removed]",
      "text/plain": [
       "<Figure size 720x432 with 1 Axes>"
      ]
     },
     "metadata": {},
     "output_type": "display_data"
    }
   ],
   "source": [
    "#Plotting the frequencies of race-wise beneficiaries\n",
    "import pandas as pd\n",
    "import matplotlib.pyplot as plt\n",
    "import numpy as np\n",
    "count_Race = pd.value_counts(data_df['Race'], sort = True)\n",
    "(count_Race*100/len(data_df)).plot(kind = 'bar', rot=0,figsize=(10,6),fontsize=12)\n",
    "#Giving titles and labels to the plot\n",
    "plt.yticks(np.arange(0,100,20))\n",
    "plt.title(\"Beneficiary Distribution by Race\")\n",
    "plt.xlabel(\"Race Code\")\n",
    "plt.ylabel(\"Percentage of Beneficiaries \"'%')\n",
    "plt.show()"
   ]
  },
  {
   "cell_type": "markdown",
   "metadata": {
    "id": "BhKd3JYbUv4g",
    "slideshow": {
     "slide_type": "subslide"
    }
   },
   "source": [
    "It seems that more than 80% beneficiaries are of same race which is Race 1 which means Maximum population in the dataset originated from same race.There is no race 4 in the dataset"
   ]
  },
  {
   "cell_type": "code",
   "execution_count": 29,
   "metadata": {
    "colab": {
     "base_uri": "https://localhost:8080/",
     "height": 518
    },
    "id": "T0hB4IRLutqW",
    "outputId": "919e1ee7-3db1-4fa8-ffc8-ff9d1737fa6c",
    "slideshow": {
     "slide_type": "slide"
    }
   },
   "outputs": [
    {
     "data": {
      "image/png": "[encoded data removed]",
      "text/plain": [
       "<Figure size 864x576 with 1 Axes>"
      ]
     },
     "metadata": {},
     "output_type": "display_data"
    }
   ],
   "source": [
    "#Top-10 Claim Diagnosis invloved in Healthcare Fraud\n",
    "sns.set(rc={'figure.figsize':(12,8)},style='white')\n",
    "sns.countplot(x='ClmDiagnosisCode_1_x',hue='PotentialFraud',data=data_df\n",
    "              ,order=data_df.ClmDiagnosisCode_1_x.value_counts().iloc[:10].index)\n",
    "plt.title('Top-10 Diagnosis invloved in Healthcare Fraud')\n",
    "plt.show()"
   ]
  },
  {
   "cell_type": "code",
   "execution_count": null,
   "metadata": {
    "id": "NZYupSTC_Tk6",
    "slideshow": {
     "slide_type": "slide"
    }
   },
   "outputs": [],
   "source": [
    "#data=data.limit(10000)"
   ]
  },
  {
   "cell_type": "code",
   "execution_count": null,
   "metadata": {
    "colab": {
     "base_uri": "https://localhost:8080/"
    },
    "id": "vpFPrBDVfqMq",
    "outputId": "246a17e2-063f-47a7-a31a-1377fa42fbe5",
    "slideshow": {
     "slide_type": "fragment"
    }
   },
   "outputs": [],
   "source": [
    "#data.info()"
   ]
  },
  {
   "cell_type": "code",
   "execution_count": 9,
   "metadata": {
    "id": "NtwS1fb_84xB",
    "slideshow": {
     "slide_type": "fragment"
    }
   },
   "outputs": [],
   "source": [
    "data=data.drop('Provider','DOB','IPAnnualReimbursementAmt','InscClaimAmtReimbursed','ClaimID','ClaimStartDt','ClaimEndDt','AdmissionDt','DischargeDt','DiagnosisGroupCode')"
   ]
  },
  {
   "cell_type": "code",
   "execution_count": null,
   "metadata": {
    "id": "OR3AmWmIkXub",
    "slideshow": {
     "slide_type": "slide"
    }
   },
   "outputs": [],
   "source": [
    "for col in data.dtypes:\n",
    "    print(col[0]+\" , \"+col[1])\n",
    "\n",
    "    \n",
    "#data.withColumn(col[0], data.col[0].cast(IntegerType()))"
   ]
  },
  {
   "cell_type": "code",
   "execution_count": 11,
   "metadata": {},
   "outputs": [],
   "source": [
    "from pyspark.sql.types import IntegerType"
   ]
  },
  {
   "cell_type": "code",
   "execution_count": 12,
   "metadata": {
    "colab": {
     "base_uri": "https://localhost:8080/",
     "height": 226
    },
    "id": "dwrHvE36mauI",
    "outputId": "18e260c6-329a-404c-87ab-d188a7542209",
    "slideshow": {
     "slide_type": "-"
    }
   },
   "outputs": [],
   "source": [
    "data = data.withColumn(\"Gender\", data[\"Gender\"].cast(IntegerType()))\n",
    "data = data.withColumn(\"Race\", data[\"Race\"].cast(IntegerType()))\n",
    "data = data.withColumn(\"RenalDiseaseIndicator\", data[\"RenalDiseaseIndicator\"].cast(IntegerType()))\n",
    "data = data.withColumn(\"State\", data[\"State\"].cast(IntegerType()))\n",
    "data = data.withColumn(\"County\", data[\"County\"].cast(IntegerType()))\n",
    "data = data.withColumn(\"NoOfMonths_PartACov\", data[\"NoOfMonths_PartACov\"].cast(IntegerType()))\n",
    "data = data.withColumn(\"NoOfMonths_PartBCov\", data[\"NoOfMonths_PartBCov\"].cast(IntegerType()))\n",
    "data = data.withColumn(\"ChronicCond_Alzheimer\", data[\"ChronicCond_Alzheimer\"].cast(IntegerType()))\n",
    "data = data.withColumn(\"ChronicCond_Heartfailure\", data[\"ChronicCond_Heartfailure\"].cast(IntegerType()))\n",
    "data = data.withColumn(\"ChronicCond_KidneyDisease\", data[\"ChronicCond_KidneyDisease\"].cast(IntegerType()))\n",
    "data = data.withColumn(\"ChronicCond_Cancer\", data[\"ChronicCond_Cancer\"].cast(IntegerType()))\n",
    "data = data.withColumn(\"ChronicCond_ObstrPulmonary\", data[\"ChronicCond_ObstrPulmonary\"].cast(IntegerType()))\n",
    "data = data.withColumn(\"ChronicCond_Depression\", data[\"ChronicCond_Depression\"].cast(IntegerType()))\n",
    "data = data.withColumn(\"ChronicCond_Diabetes\", data[\"ChronicCond_Diabetes\"].cast(IntegerType()))\n",
    "data = data.withColumn(\"ChronicCond_IschemicHeart\", data[\"ChronicCond_IschemicHeart\"].cast(IntegerType()))\n",
    "data = data.withColumn(\"ChronicCond_Osteoporasis\", data[\"ChronicCond_Osteoporasis\"].cast(IntegerType()))\n",
    "data = data.withColumn(\"ChronicCond_rheumatoidarthritis\", data[\"ChronicCond_rheumatoidarthritis\"].cast(IntegerType()))\n",
    "data = data.withColumn(\"ChronicCond_stroke\", data[\"ChronicCond_stroke\"].cast(IntegerType()))\n",
    "data = data.withColumn(\"IPAnnualDeductibleAmt\", data[\"IPAnnualDeductibleAmt\"].cast(IntegerType()))\n",
    "data = data.withColumn(\"OPAnnualReimbursementAmt\", data[\"OPAnnualReimbursementAmt\"].cast(IntegerType()))\n",
    "data = data.withColumn(\"OPAnnualDeductibleAmt\", data[\"OPAnnualDeductibleAmt\"].cast(IntegerType()))\n",
    "\n"
   ]
  },
  {
   "cell_type": "code",
   "execution_count": 13,
   "metadata": {},
   "outputs": [],
   "source": [
    "from pyspark.sql import functions as F\n",
    "data = data.withColumn('PotentialFraud', \n",
    "              F.when(data.PotentialFraud == 'No', F.lit(0))\n",
    "               .when(data.PotentialFraud == 'Yes', F.lit(1)))\n",
    "              "
   ]
  },
  {
   "cell_type": "code",
   "execution_count": null,
   "metadata": {},
   "outputs": [],
   "source": [
    "for col in data.dtypes:\n",
    "    print(col[0]+\" , \"+col[1])"
   ]
  },
  {
   "cell_type": "code",
   "execution_count": null,
   "metadata": {
    "id": "LfcWpk0kkYE7",
    "slideshow": {
     "slide_type": "subslide"
    }
   },
   "outputs": [],
   "source": [
    "'''# Convert the required dtypes to int, this process is required to do vector transformation\n",
    "d['Gender']=  d['Gender'].astype(int)\n",
    "d['Race'] = d['Race'].astype(int)\n",
    "d[\"State\"] = d[\"State\"].astype(int)\n",
    "d['County'] = d[\"County\"].astype(int)\n",
    "d['NoOfMonths_PartACov'] =d[\"NoOfMonths_PartACov\"].astype(int)\n",
    "d['NoOfMonths_PartBCov'] = d[\"NoOfMonths_PartBCov\"].astype(int)\n",
    "d['ChronicCond_Alzheimer'] =d[\"ChronicCond_Alzheimer\"].astype(int)\n",
    "d[\"ChronicCond_Heartfailure\"] = d[\"ChronicCond_Heartfailure\"].astype(int)\n",
    "d[\"ChronicCond_KidneyDisease\"] = d[\"ChronicCond_KidneyDisease\"].astype(int)\n",
    "d['ChronicCond_Cancer'] = d[\"ChronicCond_Cancer\"].astype(int)\n",
    "d[\"ChronicCond_ObstrPulmonary\"] = d[\"ChronicCond_ObstrPulmonary\"].astype(int)\n",
    "d['ChronicCond_Depression'] = d[\"ChronicCond_Depression\"].astype(int)\n",
    "d[\"ChronicCond_Diabetes\"] = d[\"ChronicCond_Diabetes\"].astype(int)\n",
    "d[\"ChronicCond_IschemicHeart\"] = d[\"ChronicCond_IschemicHeart\"].astype(int)\n",
    "d[\"ChronicCond_Osteoporasis\"] = d[\"ChronicCond_Osteoporasis\"].astype(int)\n",
    "d[\"ChronicCond_rheumatoidarthritis\"] = d[\"ChronicCond_rheumatoidarthritis\"].astype(int)\n",
    "d[\"ChronicCond_stroke\"] = d[\"ChronicCond_stroke\"].astype(int)\n",
    "d['IPAnnualDeductibleAmt'] = d[\"IPAnnualDeductibleAmt\"].astype(int)\n",
    "d[\"OPAnnualReimbursementAmt\"] = d[\"OPAnnualReimbursementAmt\"].astype(int)\n",
    "d[\"OPAnnualDeductibleAmt\"] = d[\"OPAnnualDeductibleAmt\"].astype(int)\n",
    "d['PotentialFraud']=d['PotentialFraud'].map({'No':0,'Yes':1})\n",
    "d['PotentialFraud']=d['PotentialFraud'].astype(int)'''"
   ]
  },
  {
   "cell_type": "code",
   "execution_count": null,
   "metadata": {
    "colab": {
     "base_uri": "https://localhost:8080/"
    },
    "id": "6Ij7v3Wzp6wl",
    "outputId": "3cfa77eb-0ac0-4a8e-97aa-d218f0ef5d04",
    "slideshow": {
     "slide_type": "slide"
    }
   },
   "outputs": [],
   "source": [
    "#d.info()"
   ]
  },
  {
   "cell_type": "code",
   "execution_count": null,
   "metadata": {
    "id": "9qalaHkCrZWX",
    "slideshow": {
     "slide_type": "slide"
    }
   },
   "outputs": [],
   "source": [
    "# We now would convert our dataframe to spark in order to apply ML Lib.\n",
    "#sparkDF=spark.createDataFrame(data)"
   ]
  },
  {
   "cell_type": "code",
   "execution_count": null,
   "metadata": {
    "colab": {
     "base_uri": "https://localhost:8080/"
    },
    "id": "lsWYeePns30b",
    "outputId": "6ea5b93c-95ec-43fd-d019-1f782382235d",
    "slideshow": {
     "slide_type": "fragment"
    }
   },
   "outputs": [],
   "source": [
    "data.printSchema()"
   ]
  },
  {
   "cell_type": "code",
   "execution_count": null,
   "metadata": {},
   "outputs": [],
   "source": [
    "Balancing Classes"
   ]
  },
  {
   "cell_type": "code",
   "execution_count": 14,
   "metadata": {},
   "outputs": [
    {
     "name": "stdout",
     "output_type": "stream",
     "text": [
      "+--------------+------+\n",
      "|PotentialFraud| count|\n",
      "+--------------+------+\n",
      "|             1|499384|\n",
      "|             0|500534|\n",
      "+--------------+------+\n",
      "\n"
     ]
    }
   ],
   "source": [
    "from pyspark.sql.types import *\n",
    "from pyspark.sql import functions as F\n",
    "from pyspark.sql.functions import *\n",
    "from pyspark.sql.window import Window\n",
    "\n",
    "n = 500000\n",
    "seed = 12\n",
    "\n",
    "fractions = data.groupBy(\"PotentialFraud\").count().withColumn(\"required_n\", n/col(\"count\"))\\\n",
    "                .drop(\"count\").rdd.collectAsMap()\n",
    "\n",
    "sample_df2 = data.stat.sampleBy(\"PotentialFraud\", fractions, seed)\n",
    "sample_df2.groupBy(\"PotentialFraud\").count().show()"
   ]
  },
  {
   "cell_type": "code",
   "execution_count": 15,
   "metadata": {
    "id": "aP6w-m0ieqsK",
    "slideshow": {
     "slide_type": "slide"
    }
   },
   "outputs": [],
   "source": [
    "# Applying vector assembler to the input features\n",
    "from pyspark.ml.feature import VectorAssembler\n",
    "vector_assembler = VectorAssembler(inputCols=['Gender', 'Race', 'State', 'County', 'NoOfMonths_PartACov', 'NoOfMonths_PartBCov', 'ChronicCond_Alzheimer','ChronicCond_Heartfailure', 'ChronicCond_KidneyDisease', 'ChronicCond_Cancer', 'ChronicCond_ObstrPulmonary', 'ChronicCond_Depression', 'ChronicCond_Diabetes', 'ChronicCond_IschemicHeart', 'ChronicCond_Osteoporasis', 'ChronicCond_rheumatoidarthritis', 'ChronicCond_stroke', 'IPAnnualDeductibleAmt', 'OPAnnualReimbursementAmt', 'OPAnnualDeductibleAmt'],outputCol=\"features\")\n",
    "df_temp = vector_assembler.transform(sample_df2)"
   ]
  },
  {
   "cell_type": "code",
   "execution_count": null,
   "metadata": {
    "slideshow": {
     "slide_type": "slide"
    }
   },
   "outputs": [],
   "source": [
    "Simple Decision tree"
   ]
  },
  {
   "cell_type": "code",
   "execution_count": 23,
   "metadata": {
    "colab": {
     "base_uri": "https://localhost:8080/"
    },
    "id": "Zfy2ZkyCeJOK",
    "outputId": "dd350b04-bc9b-4df0-e8aa-70cb71266c12",
    "slideshow": {
     "slide_type": "slide"
    }
   },
   "outputs": [
    {
     "name": "stdout",
     "output_type": "stream",
     "text": [
      "+--------------+\n",
      "|PotentialFraud|\n",
      "+--------------+\n",
      "|             0|\n",
      "|             0|\n",
      "|             0|\n",
      "|             0|\n",
      "|             0|\n",
      "|             0|\n",
      "|             0|\n",
      "|             0|\n",
      "|             0|\n",
      "|             0|\n",
      "+--------------+\n",
      "only showing top 10 rows\n",
      "\n"
     ]
    }
   ],
   "source": [
    "# Using a decision tree algorithm to predict the cases for fraud.\n",
    "from pyspark.ml.classification import DecisionTreeClassifier\n",
    "(train,test) = df_temp.randomSplit([0.8,0.2],seed=12345)\n",
    "dt = DecisionTreeClassifier(featuresCol = 'features', labelCol = 'PotentialFraud',impurity='gini',minInfoGain= 0.0)\n",
    "dtModel = dt.fit(train)\n",
    "predictions = dtModel.transform(test)\n",
    "predictions.select('PotentialFraud').show(10)"
   ]
  },
  {
   "cell_type": "code",
   "execution_count": null,
   "metadata": {},
   "outputs": [],
   "source": [
    "predictions.show(5)"
   ]
  },
  {
   "cell_type": "code",
   "execution_count": null,
   "metadata": {
    "colab": {
     "base_uri": "https://localhost:8080/"
    },
    "id": "l0i6vDsS2D8l",
    "outputId": "a9a017ed-98c4-4a47-86be-abaa46827fa5",
    "slideshow": {
     "slide_type": "subslide"
    }
   },
   "outputs": [],
   "source": [
    "from pyspark.ml.evaluation import MulticlassClassificationEvaluator\n",
    "evaluator = MulticlassClassificationEvaluator(labelCol=\"PotentialFraud\", predictionCol=\"prediction\",metricName=\"accuracy\")\n",
    "accuracy = evaluator.evaluate(predictions)\n",
    "print(\"Test Error = %g \" % (1.0 - accuracy))\n",
    "print(\"Accuracy = %g \" % accuracy)"
   ]
  },
  {
   "cell_type": "code",
   "execution_count": 24,
   "metadata": {},
   "outputs": [
    {
     "name": "stdout",
     "output_type": "stream",
     "text": [
      "              precision    recall  f1-score   support\n",
      "\n",
      "           0       0.65      0.46      0.54    100266\n",
      "           1       0.58      0.76      0.66     99939\n",
      "\n",
      "    accuracy                           0.61    200205\n",
      "   macro avg       0.62      0.61      0.60    200205\n",
      "weighted avg       0.62      0.61      0.60    200205\n",
      "\n"
     ]
    }
   ],
   "source": [
    "y_true = predictions.select(['PotentialFraud']).collect()\n",
    "y_pred = predictions.select(['prediction']).collect()\n",
    "\n",
    "from sklearn.metrics import classification_report, confusion_matrix\n",
    "print(classification_report(y_true, y_pred))"
   ]
  },
  {
   "cell_type": "code",
   "execution_count": null,
   "metadata": {},
   "outputs": [],
   "source": [
    "Random Forest with Hyperparameter Tuning"
   ]
  },
  {
   "cell_type": "code",
   "execution_count": 25,
   "metadata": {},
   "outputs": [],
   "source": [
    "(train, test) = df_temp.randomSplit([0.8, 0.2])"
   ]
  },
  {
   "cell_type": "code",
   "execution_count": 26,
   "metadata": {},
   "outputs": [],
   "source": [
    "from pyspark.ml.classification import RandomForestClassifier\n",
    "from pyspark.ml.evaluation import MulticlassClassificationEvaluator\n",
    "from sklearn.metrics import confusion_matrix"
   ]
  },
  {
   "cell_type": "code",
   "execution_count": 27,
   "metadata": {},
   "outputs": [],
   "source": [
    "rfc = RandomForestClassifier(featuresCol=\"features\", labelCol=\"PotentialFraud\")\n",
    "rfc = rfc.fit(train)\n",
    "\n",
    "pred = rfc.transform(test)\n",
    "#pred.show(3) "
   ]
  },
  {
   "cell_type": "code",
   "execution_count": 28,
   "metadata": {},
   "outputs": [
    {
     "name": "stdout",
     "output_type": "stream",
     "text": [
      "              precision    recall  f1-score   support\n",
      "\n",
      "           0       0.59      0.59      0.59     99782\n",
      "           1       0.59      0.59      0.59     99911\n",
      "\n",
      "    accuracy                           0.59    199693\n",
      "   macro avg       0.59      0.59      0.59    199693\n",
      "weighted avg       0.59      0.59      0.59    199693\n",
      "\n"
     ]
    }
   ],
   "source": [
    "y_true = pred.select(['PotentialFraud']).collect()\n",
    "y_pred = pred.select(['prediction']).collect()\n",
    "\n",
    "from sklearn.metrics import classification_report, confusion_matrix\n",
    "print(classification_report(y_true, y_pred))"
   ]
  },
  {
   "cell_type": "code",
   "execution_count": null,
   "metadata": {},
   "outputs": [],
   "source": []
  },
  {
   "cell_type": "code",
   "execution_count": 17,
   "metadata": {},
   "outputs": [],
   "source": [
    "import pandas as pd"
   ]
  },
  {
   "cell_type": "markdown",
   "metadata": {
    "id": "pEFttUUP3v2B",
    "slideshow": {
     "slide_type": "slide"
    }
   },
   "source": [
    "Tuning Parameters"
   ]
  },
  {
   "cell_type": "code",
   "execution_count": 18,
   "metadata": {},
   "outputs": [],
   "source": [
    "# replicate the spark dataframe into multiple copies\n",
    "replication_df = spark.createDataFrame(pd.DataFrame(list(range(1,10)),columns=['replication_id']))\n",
    "replicated_train_df = sample_df2.crossJoin(replication_df)"
   ]
  },
  {
   "cell_type": "code",
   "execution_count": 19,
   "metadata": {},
   "outputs": [],
   "source": [
    "from pyspark.sql.types import StructField\n",
    "from pyspark.sql.types import StructType\n",
    "from pyspark.sql.types import DoubleType"
   ]
  },
  {
   "cell_type": "code",
   "execution_count": 20,
   "metadata": {},
   "outputs": [],
   "source": [
    "# 0. Declare the schema for the output of our function\n",
    "outSchema = StructType([StructField('replication_id',IntegerType(),True),StructField('Accuracy',DoubleType(),True),StructField('num_trees',IntegerType(),True),StructField('depth',IntegerType(),True),StructField('criterion',StringType(),True)])\n",
    "\n",
    "# decorate our function with pandas_udf decorator\n",
    "@F.pandas_udf(outSchema, F.PandasUDFType.GROUPED_MAP)\n",
    "def run_model(pdf):\n",
    "    import random\n",
    "    from sklearn.model_selection import train_test_split\n",
    "    from sklearn.ensemble import RandomForestClassifier\n",
    "    from sklearn.metrics import accuracy_score\n",
    "    # 1. Get randomized hyperparam values\n",
    "    num_trees =  random.choice(list(range(5,30)))\n",
    "    depth = random.choice(list(range(2,10)))\n",
    "    criterion = random.choice(['gini','entropy'])\n",
    "    replication_id = pdf.replication_id.values[0]\n",
    "    \n",
    "    # 2. Train test split\n",
    "    X = pdf[['Gender', 'Race', 'State', 'County', 'NoOfMonths_PartACov', 'NoOfMonths_PartBCov', 'ChronicCond_Alzheimer','ChronicCond_Heartfailure', 'ChronicCond_KidneyDisease', 'ChronicCond_Cancer', 'ChronicCond_ObstrPulmonary', 'ChronicCond_Depression', 'ChronicCond_Diabetes', 'ChronicCond_IschemicHeart', 'ChronicCond_Osteoporasis', 'ChronicCond_rheumatoidarthritis', 'ChronicCond_stroke', 'IPAnnualDeductibleAmt', 'OPAnnualReimbursementAmt', 'OPAnnualDeductibleAmt']]\n",
    "    y = pdf['PotentialFraud']\n",
    "    Xtrain,Xcv,ytrain,ycv = train_test_split(X, y, test_size=0.33, random_state=42)\n",
    "    \n",
    "    # 3. Create model using the pandas dataframe\n",
    "    clf = RandomForestClassifier(n_estimators=num_trees, max_depth = depth, criterion =criterion)\n",
    "    clf.fit(Xtrain,ytrain)\n",
    "    \n",
    "    # 4. Evaluate the model\n",
    "    accuracy = accuracy_score(clf.predict(Xcv),ycv)\n",
    "    \n",
    "    # 5. return results as pandas DF\n",
    "    res =pd.DataFrame({'replication_id':replication_id,'Accuracy':accuracy, 'num_trees':num_trees,'depth':depth,'criterion':criterion}, index=[0])\n",
    "    return res"
   ]
  },
  {
   "cell_type": "code",
   "execution_count": null,
   "metadata": {},
   "outputs": [],
   "source": [
    "#pip install pyarrow"
   ]
  },
  {
   "cell_type": "code",
   "execution_count": 21,
   "metadata": {},
   "outputs": [
    {
     "name": "stderr",
     "output_type": "stream",
     "text": [
      "C:\\Users\\yashb\\anaconda3\\lib\\site-packages\\pyspark\\sql\\pandas\\group_ops.py:98: UserWarning: It is preferred to use 'applyInPandas' over this API. This API will be deprecated in the future releases. See SPARK-28264 for more details.\n",
      "  warnings.warn(\n"
     ]
    }
   ],
   "source": []
  },
  {
   "cell_type": "code",
   "execution_count": null,
   "metadata": {},
   "outputs": [],
   "source": [
    "type(results)"
   ]
  },
  {
   "cell_type": "code",
   "execution_count": 31,
   "metadata": {},
   "outputs": [
    {
     "name": "stdout",
     "output_type": "stream",
     "text": [
      "+------+----+---------------------+-----+------+-------------------+-------------------+---------------------+------------------------+-------------------------+------------------+--------------------------+----------------------+--------------------+-------------------------+------------------------+-------------------------------+------------------+---------------------+------------------------+---------------------+--------------+--------------+\n",
      "|Gender|Race|RenalDiseaseIndicator|State|County|NoOfMonths_PartACov|NoOfMonths_PartBCov|ChronicCond_Alzheimer|ChronicCond_Heartfailure|ChronicCond_KidneyDisease|ChronicCond_Cancer|ChronicCond_ObstrPulmonary|ChronicCond_Depression|ChronicCond_Diabetes|ChronicCond_IschemicHeart|ChronicCond_Osteoporasis|ChronicCond_rheumatoidarthritis|ChronicCond_stroke|IPAnnualDeductibleAmt|OPAnnualReimbursementAmt|OPAnnualDeductibleAmt|PotentialFraud|replication_id|\n",
      "+------+----+---------------------+-----+------+-------------------+-------------------+---------------------+------------------------+-------------------------+------------------+--------------------------+----------------------+--------------------+-------------------------+------------------------+-------------------------------+------------------+---------------------+------------------------+---------------------+--------------+--------------+\n",
      "|     1|   1|                    0|   39|   230|                 12|                 12|                    1|                       2|                        1|                 2|                         2|                     1|                   1|                        1|                       2|                              1|                 1|                 3204|                      60|                   70|             0|             1|\n",
      "|     1|   1|                    0|   39|   230|                 12|                 12|                    1|                       2|                        1|                 2|                         2|                     1|                   1|                        1|                       2|                              1|                 1|                 3204|                      60|                   70|             0|             2|\n",
      "|     1|   1|                    0|   39|   230|                 12|                 12|                    1|                       2|                        1|                 2|                         2|                     1|                   1|                        1|                       2|                              1|                 1|                 3204|                      60|                   70|             0|             3|\n",
      "|     1|   1|                    0|   39|   230|                 12|                 12|                    1|                       2|                        1|                 2|                         2|                     1|                   1|                        1|                       2|                              1|                 1|                 3204|                      60|                   70|             0|             4|\n",
      "|     1|   1|                    0|   39|   230|                 12|                 12|                    1|                       2|                        1|                 2|                         2|                     1|                   1|                        1|                       2|                              1|                 1|                 3204|                      60|                   70|             0|             5|\n",
      "|     1|   1|                    0|   39|   230|                 12|                 12|                    1|                       2|                        1|                 2|                         2|                     1|                   1|                        1|                       2|                              1|                 1|                 3204|                      60|                   70|             0|             6|\n",
      "|     1|   1|                    0|   39|   230|                 12|                 12|                    1|                       2|                        1|                 2|                         2|                     1|                   1|                        1|                       2|                              1|                 1|                 3204|                      60|                   70|             0|             7|\n",
      "|     1|   1|                    0|   39|   230|                 12|                 12|                    1|                       2|                        1|                 2|                         2|                     1|                   1|                        1|                       2|                              1|                 1|                 3204|                      60|                   70|             0|             8|\n",
      "|     1|   1|                    0|   39|   230|                 12|                 12|                    1|                       2|                        1|                 2|                         2|                     1|                   1|                        1|                       2|                              1|                 1|                 3204|                      60|                   70|             0|             9|\n",
      "|     1|   1|                    0|   39|   230|                 12|                 12|                    1|                       2|                        1|                 2|                         2|                     1|                   1|                        1|                       2|                              1|                 1|                 3204|                      60|                   70|             0|             1|\n",
      "|     1|   1|                    0|   39|   230|                 12|                 12|                    1|                       2|                        1|                 2|                         2|                     1|                   1|                        1|                       2|                              1|                 1|                 3204|                      60|                   70|             0|             2|\n",
      "|     1|   1|                    0|   39|   230|                 12|                 12|                    1|                       2|                        1|                 2|                         2|                     1|                   1|                        1|                       2|                              1|                 1|                 3204|                      60|                   70|             0|             3|\n",
      "|     1|   1|                    0|   39|   230|                 12|                 12|                    1|                       2|                        1|                 2|                         2|                     1|                   1|                        1|                       2|                              1|                 1|                 3204|                      60|                   70|             0|             4|\n",
      "|     1|   1|                    0|   39|   230|                 12|                 12|                    1|                       2|                        1|                 2|                         2|                     1|                   1|                        1|                       2|                              1|                 1|                 3204|                      60|                   70|             0|             5|\n",
      "|     1|   1|                    0|   39|   230|                 12|                 12|                    1|                       2|                        1|                 2|                         2|                     1|                   1|                        1|                       2|                              1|                 1|                 3204|                      60|                   70|             0|             6|\n",
      "|     1|   1|                    0|   39|   230|                 12|                 12|                    1|                       2|                        1|                 2|                         2|                     1|                   1|                        1|                       2|                              1|                 1|                 3204|                      60|                   70|             0|             7|\n",
      "|     1|   1|                    0|   39|   230|                 12|                 12|                    1|                       2|                        1|                 2|                         2|                     1|                   1|                        1|                       2|                              1|                 1|                 3204|                      60|                   70|             0|             8|\n",
      "|     1|   1|                    0|   39|   230|                 12|                 12|                    1|                       2|                        1|                 2|                         2|                     1|                   1|                        1|                       2|                              1|                 1|                 3204|                      60|                   70|             0|             9|\n",
      "|     1|   1|                    0|   39|   230|                 12|                 12|                    1|                       2|                        1|                 2|                         2|                     1|                   1|                        1|                       2|                              1|                 1|                 3204|                      60|                   70|             0|             1|\n",
      "|     1|   1|                    0|   39|   230|                 12|                 12|                    1|                       2|                        1|                 2|                         2|                     1|                   1|                        1|                       2|                              1|                 1|                 3204|                      60|                   70|             0|             2|\n",
      "+------+----+---------------------+-----+------+-------------------+-------------------+---------------------+------------------------+-------------------------+------------------+--------------------------+----------------------+--------------------+-------------------------+------------------------+-------------------------------+------------------+---------------------+------------------------+---------------------+--------------+--------------+\n",
      "only showing top 20 rows\n",
      "\n"
     ]
    }
   ],
   "source": []
  },
  {
   "cell_type": "code",
   "execution_count": 22,
   "metadata": {},
   "outputs": [
    {
     "name": "stdout",
     "output_type": "stream",
     "text": [
      "+--------------+------------------+---------+-----+---------+\n",
      "|replication_id|          Accuracy|num_trees|depth|criterion|\n",
      "+--------------+------------------+---------+-----+---------+\n",
      "|             8|0.7247494030520102|       14|    9|     gini|\n",
      "|             4|0.7156073112492879|       26|    9|  entropy|\n",
      "|             7|0.7018653867132104|       13|    9|     gini|\n",
      "|             1|0.6403524720313201|       13|    7|     gini|\n",
      "|             5|0.6194077791110626|       15|    6|     gini|\n",
      "|             2|0.6034538138007103|       11|    6|     gini|\n",
      "|             6|0.5975509981455219|       17|    5|     gini|\n",
      "|             3|0.5965207325794214|       16|    5|  entropy|\n",
      "|             9| 0.564570379258936|       10|    2|  entropy|\n",
      "+--------------+------------------+---------+-----+---------+\n",
      "\n"
     ]
    }
   ],
   "source": [
    "results.sort(F.desc(\"Accuracy\")).show()"
   ]
  },
  {
   "cell_type": "code",
   "execution_count": 33,
   "metadata": {},
   "outputs": [],
   "source": []
  },
  {
   "cell_type": "code",
   "execution_count": 34,
   "metadata": {},
   "outputs": [],
   "source": []
  },
  {
   "cell_type": "code",
   "execution_count": 35,
   "metadata": {},
   "outputs": [],
   "source": []
  },
  {
   "cell_type": "code",
   "execution_count": 36,
   "metadata": {},
   "outputs": [],
   "source": []
  },
  {
   "cell_type": "code",
   "execution_count": null,
   "metadata": {},
   "outputs": [],
   "source": []
  },
  {
   "cell_type": "code",
   "execution_count": null,
   "metadata": {},
   "outputs": [],
   "source": [
    "#major_df = data.filter(data[\"PotentialFraud\"] == 0)\n",
    "#major_df.count()"
   ]
  },
  {
   "cell_type": "code",
   "execution_count": null,
   "metadata": {},
   "outputs": [],
   "source": [
    "#minor_df = data.filter(data[\"PotentialFraud\"] == 1)\n",
    "#minor_df.count()"
   ]
  },
  {
   "cell_type": "code",
   "execution_count": null,
   "metadata": {},
   "outputs": [],
   "source": []
  }
 ],
 "metadata": {
  "celltoolbar": "Slideshow",
  "colab": {
   "collapsed_sections": [],
   "machine_shape": "hm",
   "name": "Data_603_Final_Project.ipynb",
   "provenance": []
  },
  "kernelspec": {
   "display_name": "Python 3 (ipykernel)",
   "language": "python",
   "name": "python3"
  },
  "language_info": {
   "codemirror_mode": {
    "name": "ipython",
    "version": 3
   },
   "file_extension": ".py",
   "mimetype": "text/x-python",
   "name": "python",
   "nbconvert_exporter": "python",
   "pygments_lexer": "ipython3",
   "version": "3.9.7"
  }
 },
 "nbformat": 4,
 "nbformat_minor": 1
}
